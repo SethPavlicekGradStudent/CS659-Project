{
 "cells": [
  {
   "cell_type": "code",
   "execution_count": null,
   "metadata": {},
   "outputs": [],
   "source": [
    "# Do a convolution over the whole image using horizontal and vertical filters and combine the results to get all edges\n",
    "# From top to bottom look horizontal edges to find where one vertebra starts and stops to label each vertebra\n"
   ]
  }
 ],
 "metadata": {
  "language_info": {
   "name": "python"
  }
 },
 "nbformat": 4,
 "nbformat_minor": 2
}
